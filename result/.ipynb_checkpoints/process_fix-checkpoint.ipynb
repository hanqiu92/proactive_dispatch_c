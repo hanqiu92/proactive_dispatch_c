{
 "cells": [
  {
   "cell_type": "code",
   "execution_count": 1,
   "metadata": {
    "collapsed": true
   },
   "outputs": [],
   "source": [
    "%matplotlib inline\n",
    "\n",
    "import matplotlib.pyplot as plt\n",
    "import pandas as pd\n",
    "import numpy as np\n",
    "pd.options.mode.chained_assignment = None\n",
    "np.set_printoptions(precision=2)"
   ]
  },
  {
   "cell_type": "code",
   "execution_count": 2,
   "metadata": {},
   "outputs": [
    {
     "data": {
      "text/html": [
       "<div>\n",
       "<table border=\"1\" class=\"dataframe\">\n",
       "  <thead>\n",
       "    <tr style=\"text-align: right;\">\n",
       "      <th></th>\n",
       "      <th>strategy</th>\n",
       "      <th>supply</th>\n",
       "      <th>prate</th>\n",
       "      <th>tax_cong</th>\n",
       "      <th>tax_demand</th>\n",
       "      <th>revenue</th>\n",
       "      <th>cost</th>\n",
       "      <th>tax</th>\n",
       "      <th>profit</th>\n",
       "      <th>total_pax</th>\n",
       "      <th>...</th>\n",
       "      <th>shared_pax</th>\n",
       "      <th>ave_pax</th>\n",
       "      <th>ave_dist</th>\n",
       "      <th>ave_time</th>\n",
       "      <th>total_demand</th>\n",
       "      <th>serviced_rate</th>\n",
       "      <th>ave_time_offer</th>\n",
       "      <th>ave_time_offer_s</th>\n",
       "      <th>ave_time_pickup</th>\n",
       "      <th>shared_rate</th>\n",
       "    </tr>\n",
       "  </thead>\n",
       "  <tbody>\n",
       "    <tr>\n",
       "      <th>0</th>\n",
       "      <td>Full</td>\n",
       "      <td>0.5</td>\n",
       "      <td>0.4</td>\n",
       "      <td>-0.000</td>\n",
       "      <td>-0.00</td>\n",
       "      <td>4620.15</td>\n",
       "      <td>1245.51</td>\n",
       "      <td>0.000</td>\n",
       "      <td>3374.64</td>\n",
       "      <td>3751</td>\n",
       "      <td>...</td>\n",
       "      <td>3473</td>\n",
       "      <td>75.02</td>\n",
       "      <td>355.86</td>\n",
       "      <td>984.84</td>\n",
       "      <td>11736</td>\n",
       "      <td>0.319870</td>\n",
       "      <td>4.25000</td>\n",
       "      <td>1.81806</td>\n",
       "      <td>7.20123</td>\n",
       "      <td>0.925886</td>\n",
       "    </tr>\n",
       "    <tr>\n",
       "      <th>1</th>\n",
       "      <td>Full</td>\n",
       "      <td>0.5</td>\n",
       "      <td>0.4</td>\n",
       "      <td>-0.000</td>\n",
       "      <td>-0.25</td>\n",
       "      <td>4480.11</td>\n",
       "      <td>1205.05</td>\n",
       "      <td>-258.070</td>\n",
       "      <td>3533.14</td>\n",
       "      <td>3770</td>\n",
       "      <td>...</td>\n",
       "      <td>3516</td>\n",
       "      <td>75.40</td>\n",
       "      <td>344.30</td>\n",
       "      <td>978.26</td>\n",
       "      <td>11712</td>\n",
       "      <td>0.321977</td>\n",
       "      <td>4.24257</td>\n",
       "      <td>1.79130</td>\n",
       "      <td>7.25565</td>\n",
       "      <td>0.932626</td>\n",
       "    </tr>\n",
       "    <tr>\n",
       "      <th>2</th>\n",
       "      <td>Full</td>\n",
       "      <td>0.5</td>\n",
       "      <td>0.4</td>\n",
       "      <td>-0.025</td>\n",
       "      <td>-0.00</td>\n",
       "      <td>4641.06</td>\n",
       "      <td>1233.54</td>\n",
       "      <td>-172.288</td>\n",
       "      <td>3579.81</td>\n",
       "      <td>3764</td>\n",
       "      <td>...</td>\n",
       "      <td>3467</td>\n",
       "      <td>75.28</td>\n",
       "      <td>352.44</td>\n",
       "      <td>982.58</td>\n",
       "      <td>11736</td>\n",
       "      <td>0.320808</td>\n",
       "      <td>4.24029</td>\n",
       "      <td>1.78167</td>\n",
       "      <td>7.16015</td>\n",
       "      <td>0.921095</td>\n",
       "    </tr>\n",
       "    <tr>\n",
       "      <th>3</th>\n",
       "      <td>Full</td>\n",
       "      <td>0.5</td>\n",
       "      <td>0.4</td>\n",
       "      <td>-0.025</td>\n",
       "      <td>-0.25</td>\n",
       "      <td>4535.14</td>\n",
       "      <td>1233.12</td>\n",
       "      <td>-424.361</td>\n",
       "      <td>3726.39</td>\n",
       "      <td>3769</td>\n",
       "      <td>...</td>\n",
       "      <td>3516</td>\n",
       "      <td>75.38</td>\n",
       "      <td>352.32</td>\n",
       "      <td>983.68</td>\n",
       "      <td>11704</td>\n",
       "      <td>0.322112</td>\n",
       "      <td>4.23676</td>\n",
       "      <td>1.79708</td>\n",
       "      <td>7.16366</td>\n",
       "      <td>0.932873</td>\n",
       "    </tr>\n",
       "    <tr>\n",
       "      <th>4</th>\n",
       "      <td>Full</td>\n",
       "      <td>0.5</td>\n",
       "      <td>0.6</td>\n",
       "      <td>-0.000</td>\n",
       "      <td>-0.00</td>\n",
       "      <td>6374.27</td>\n",
       "      <td>1224.93</td>\n",
       "      <td>0.000</td>\n",
       "      <td>5149.34</td>\n",
       "      <td>3697</td>\n",
       "      <td>...</td>\n",
       "      <td>3374</td>\n",
       "      <td>73.94</td>\n",
       "      <td>349.98</td>\n",
       "      <td>978.58</td>\n",
       "      <td>11708</td>\n",
       "      <td>0.315852</td>\n",
       "      <td>4.15613</td>\n",
       "      <td>1.76771</td>\n",
       "      <td>7.24303</td>\n",
       "      <td>0.912632</td>\n",
       "    </tr>\n",
       "  </tbody>\n",
       "</table>\n",
       "<p>5 rows × 21 columns</p>\n",
       "</div>"
      ],
      "text/plain": [
       "  strategy  supply  prate  tax_cong  tax_demand  revenue     cost      tax  \\\n",
       "0     Full     0.5    0.4    -0.000       -0.00  4620.15  1245.51    0.000   \n",
       "1     Full     0.5    0.4    -0.000       -0.25  4480.11  1205.05 -258.070   \n",
       "2     Full     0.5    0.4    -0.025       -0.00  4641.06  1233.54 -172.288   \n",
       "3     Full     0.5    0.4    -0.025       -0.25  4535.14  1233.12 -424.361   \n",
       "4     Full     0.5    0.6    -0.000       -0.00  6374.27  1224.93    0.000   \n",
       "\n",
       "    profit  total_pax     ...       shared_pax  ave_pax  ave_dist  ave_time  \\\n",
       "0  3374.64       3751     ...             3473    75.02    355.86    984.84   \n",
       "1  3533.14       3770     ...             3516    75.40    344.30    978.26   \n",
       "2  3579.81       3764     ...             3467    75.28    352.44    982.58   \n",
       "3  3726.39       3769     ...             3516    75.38    352.32    983.68   \n",
       "4  5149.34       3697     ...             3374    73.94    349.98    978.58   \n",
       "\n",
       "   total_demand  serviced_rate  ave_time_offer  ave_time_offer_s  \\\n",
       "0         11736       0.319870         4.25000           1.81806   \n",
       "1         11712       0.321977         4.24257           1.79130   \n",
       "2         11736       0.320808         4.24029           1.78167   \n",
       "3         11704       0.322112         4.23676           1.79708   \n",
       "4         11708       0.315852         4.15613           1.76771   \n",
       "\n",
       "   ave_time_pickup  shared_rate  \n",
       "0          7.20123     0.925886  \n",
       "1          7.25565     0.932626  \n",
       "2          7.16015     0.921095  \n",
       "3          7.16366     0.932873  \n",
       "4          7.24303     0.912632  \n",
       "\n",
       "[5 rows x 21 columns]"
      ]
     },
     "execution_count": 2,
     "metadata": {},
     "output_type": "execute_result"
    }
   ],
   "source": [
    "result = pd.read_csv(\"results_fix.csv\",\n",
    "                     names = [\"strategy\",\"congestion\",\"demand\",\"supply\",\"prate\",\"tax_cong\",\"tax_demand\",\n",
    "                                            \"private\",\"revenue\",\"cost\",\"tax\",\"profit\",\"total_pax\",\n",
    "                                            \"single_pax\",\"shared_pax\",\"ave_pax\",\"ave_dist\",\"ave_time\",\n",
    "                                            \"public\",\"ave_link_time\",\"total_demand\",\n",
    "                                            \"serviced_demand\",\"stay_demand\",\"serviced_rate\",\"ave_time_offer\",\n",
    "                                            \"ave_time_offer_s\",\"ave_time_pickup\"])\n",
    "\n",
    "del result['public'],result['private'],result['demand'],result['congestion']\n",
    "del result['ave_link_time'],result['serviced_demand'],result['stay_demand']\n",
    "result['shared_rate'] = result['shared_pax'] / result['total_pax']\n",
    "\n",
    "result.head()"
   ]
  },
  {
   "cell_type": "code",
   "execution_count": 4,
   "metadata": {},
   "outputs": [
    {
     "data": {
      "text/plain": [
       "array([[ -25.19,  -21.68,  -32.21,  -15.66,  -11.46],\n",
       "       [  -2.33,   -4.04,   -8.97,   -0.96,   -2.65],\n",
       "       [ -29.64,  -24.77,  -36.83,  -18.37,  -13.03],\n",
       "       [  20.94,  -14.2 ,   21.52,   -3.78,   11.47],\n",
       "       [  -2.33,   -4.04,   -8.97,   -0.96,   -2.65],\n",
       "       [   7.18,   -1.18,    2.33,    0.81,    4.51],\n",
       "       [  85.62,  326.15,    7.89,  162.15,  126.92],\n",
       "       [   3.61,   18.31,   -1.67,    6.11,    5.46]])"
      ]
     },
     "execution_count": 4,
     "metadata": {},
     "output_type": "execute_result"
    }
   ],
   "source": [
    "count = 0\n",
    "result_col = ['revenue','cost','profit','ave_pax','ave_dist','ave_time','ave_time_offer_s','ave_time_pickup']\n",
    "compare_stra = np.zeros((len(result_col),5))\n",
    "for supply in [0.5,1.0,1.5,2.0]:\n",
    "    for prate in [0.4,0.6,0.8]:\n",
    "            count += 1\n",
    "            temp = result.loc[(result['supply'] == supply) & (result['prate'] == prate) & \\\n",
    "                              (result['tax_cong'] == 0.0) & (result['tax_demand'] == 0.0),:]\n",
    "            pricing_opt_temp = np.asarray(temp.loc[(result['strategy'] == \"Pricing Opt\"),result_col])\n",
    "            full_temp = np.asarray(temp.loc[(result['strategy'] == \"Full\"),result_col])\n",
    "            single_temp = np.asarray(temp.loc[(result['strategy'] == \"Single\"),result_col])\n",
    "            shared_temp = np.asarray(temp.loc[(result['strategy'] == \"Pool\"),result_col])\n",
    "            pricing_temp = np.asarray(temp.loc[(result['strategy'] == \"Pricing\"),result_col])\n",
    "            assort_opt_temp = np.asarray(temp.loc[(result['strategy'] == \"Assort Opt\"),result_col])\n",
    "            compare_stra[:,0] += ((pricing_opt_temp - full_temp) / pricing_opt_temp)[0,:]\n",
    "            compare_stra[:,1] += ((pricing_opt_temp - single_temp) / pricing_opt_temp)[0,:]\n",
    "            compare_stra[:,2] += ((pricing_opt_temp - shared_temp) / pricing_opt_temp)[0,:]\n",
    "            compare_stra[:,3] += ((pricing_opt_temp - assort_opt_temp) / pricing_opt_temp)[0,:]\n",
    "            compare_stra[:,4] += ((pricing_opt_temp - pricing_temp) / pricing_opt_temp)[0,:]\n",
    "            \n",
    "compare_stra = - compare_stra / count * 100\n",
    "compare_stra"
   ]
  },
  {
   "cell_type": "code",
   "execution_count": 19,
   "metadata": {},
   "outputs": [
    {
     "data": {
      "text/plain": [
       "array([ 2035.93,  1938.92,  1924.57,  2028.15,  2027.77,  2006.2 ])"
      ]
     },
     "execution_count": 19,
     "metadata": {},
     "output_type": "execute_result"
    }
   ],
   "source": [
    "result_col = ['revenue','cost','profit','ave_pax','ave_dist','ave_time',\n",
    "              'ave_time_offer','ave_time_offer_s','ave_time_pickup']\n",
    "compare_stra = np.zeros((len(result_col),6))\n",
    "supply = 1.5\n",
    "p_rate = 0.6\n",
    "temp = result.loc[(result['supply'] == supply) & (result['prate'] == prate) & \\\n",
    "                  (result['tax_cong'] == 0.0) & (result['tax_demand'] == 0.0),:]\n",
    "compare_stra[:,0] += np.asarray(temp.loc[(result['strategy'] == \"Full\"),result_col])[0,:]\n",
    "compare_stra[:,1] += np.asarray(temp.loc[(result['strategy'] == \"Single\"),result_col])[0,:]\n",
    "compare_stra[:,2] += np.asarray(temp.loc[(result['strategy'] == \"Pool\"),result_col])[0,:]\n",
    "compare_stra[:,3] += np.asarray(temp.loc[(result['strategy'] == \"Pricing\"),result_col])[0,:]\n",
    "compare_stra[:,4] += np.asarray(temp.loc[(result['strategy'] == \"Assort Opt\"),result_col])[0,:]\n",
    "compare_stra[:,5] += np.asarray(temp.loc[(result['strategy'] == \"Pricing Opt\"),result_col])[0,:]\n",
    "\n",
    "compare_stra[5,:] * 150 / 60"
   ]
  },
  {
   "cell_type": "code",
   "execution_count": 7,
   "metadata": {},
   "outputs": [
    {
     "data": {
      "text/plain": [
       "array([[ 10160.788,     59.003,    313.987,    858.174],\n",
       "       [ 10713.832,     41.658,    312.813,    798.681],\n",
       "       [  9006.749,     59.482,    294.025,    822.969],\n",
       "       [ 12467.682,     54.733,    313.6  ,    839.131],\n",
       "       [ 11582.688,     47.298,    322.922,    810.619],\n",
       "       [ 14034.124,     49.262,    326.798,    804.077]])"
      ]
     },
     "execution_count": 7,
     "metadata": {},
     "output_type": "execute_result"
    }
   ],
   "source": [
    "count = 0\n",
    "result_col = ['profit','ave_pax','ave_dist','ave_time','ave_time_offer','ave_time_offer_s','ave_time_pickup']\n",
    "compare_stra = np.zeros((6,len(result_col)))\n",
    "for supply in [0.5,1.0,1.5,2.0]:\n",
    "    for prate in [0.4,0.6,0.8]:\n",
    "            count += 1\n",
    "            temp = result.loc[(result['supply'] == supply) & (result['prate'] == prate) & \\\n",
    "                              (result['tax_cong'] == 0.0) & (result['tax_demand'] == 0.0),:]\n",
    "            compare_stra[0,:] += np.asarray(temp.loc[(result['strategy'] == \"Full\"),result_col])[0,:]\n",
    "            compare_stra[1,:] += np.asarray(temp.loc[(result['strategy'] == \"Single\"),result_col])[0,:]\n",
    "            compare_stra[2,:] += np.asarray(temp.loc[(result['strategy'] == \"Pool\"),result_col])[0,:]\n",
    "            compare_stra[3,:] += np.asarray(temp.loc[(result['strategy'] == \"Pricing\"),result_col])[0,:]\n",
    "            compare_stra[4,:] += np.asarray(temp.loc[(result['strategy'] == \"Assort Opt\"),result_col])[0,:]\n",
    "            compare_stra[5,:] += np.asarray(temp.loc[(result['strategy'] == \"Pricing Opt\"),result_col])[0,:]\n",
    "            \n",
    "compare_stra = compare_stra / count\n",
    "compare_stra[:,0:4]"
   ]
  },
  {
   "cell_type": "code",
   "execution_count": 3,
   "metadata": {},
   "outputs": [
    {
     "data": {
      "text/plain": [
       "array([[  3.86e+03,   3.75e+03,   2.30e+03,   3.47e+03,   0.00e+00,\n",
       "          9.26e-01,   0.00e+00],\n",
       "       [  3.79e+03,   3.70e+03,   2.93e+03,   3.37e+03,   2.34e+03,\n",
       "          9.13e-01,   8.00e-01],\n",
       "       [  3.69e+03,   3.59e+03,   3.46e+03,   3.11e+03,   3.37e+03,\n",
       "          8.66e-01,   9.75e-01],\n",
       "       [  6.57e+03,   6.43e+03,   4.66e+03,   5.75e+03,   1.82e+03,\n",
       "          8.95e-01,   3.91e-01],\n",
       "       [  6.40e+03,   6.25e+03,   5.69e+03,   5.41e+03,   4.26e+03,\n",
       "          8.66e-01,   7.47e-01],\n",
       "       [  6.23e+03,   6.00e+03,   5.57e+03,   4.91e+03,   4.80e+03,\n",
       "          8.18e-01,   8.62e-01],\n",
       "       [  8.46e+03,   8.47e+03,   6.43e+03,   7.34e+03,   1.78e+03,\n",
       "          8.67e-01,   2.77e-01],\n",
       "       [  8.12e+03,   8.14e+03,   7.08e+03,   6.60e+03,   3.94e+03,\n",
       "          8.10e-01,   5.57e-01],\n",
       "       [  7.76e+03,   7.77e+03,   7.62e+03,   5.92e+03,   5.82e+03,\n",
       "          7.61e-01,   7.64e-01],\n",
       "       [  9.35e+03,   9.51e+03,   7.43e+03,   7.63e+03,   1.90e+03,\n",
       "          8.02e-01,   2.55e-01],\n",
       "       [  8.94e+03,   9.21e+03,   7.68e+03,   6.80e+03,   3.82e+03,\n",
       "          7.39e-01,   4.98e-01],\n",
       "       [  8.26e+03,   8.86e+03,   8.34e+03,   5.98e+03,   5.71e+03,\n",
       "          6.75e-01,   6.84e-01]])"
      ]
     },
     "execution_count": 3,
     "metadata": {},
     "output_type": "execute_result"
    }
   ],
   "source": [
    "row_id = -1\n",
    "result_col = ['total_pax','shared_pax','shared_rate']\n",
    "compare_stra = np.zeros((12,7))\n",
    "for supply in [0.5,1.0,1.5,2.0]:\n",
    "    for prate in [0.4,0.6,0.8]:\n",
    "            row_id += 1\n",
    "            temp = result.loc[(result['supply'] == supply) & (result['prate'] == prate) & \\\n",
    "                              (result['tax_cong'] == 0.0) & (result['tax_demand'] == 0.0),:]\n",
    "            \n",
    "            compare_stra[row_id,0] = np.asarray(temp.loc[(result['strategy'] == \"Pool\"),['total_pax']])\n",
    "            compare_stra[row_id,[1,3,5]] = np.asarray(temp.loc[(result['strategy'] == \"Full\"),result_col])\n",
    "            compare_stra[row_id,[2,4,6]] = np.asarray(temp.loc[(result['strategy'] == \"Pricing Opt\"),result_col])\n",
    "            \n",
    "compare_stra"
   ]
  },
  {
   "cell_type": "code",
   "execution_count": 6,
   "metadata": {},
   "outputs": [
    {
     "data": {
      "text/plain": [
       "array([[[ 0.93,  0.  ],\n",
       "        [ 0.91,  0.8 ],\n",
       "        [ 0.87,  0.97]],\n",
       "\n",
       "       [[ 0.9 ,  0.39],\n",
       "        [ 0.87,  0.75],\n",
       "        [ 0.82,  0.86]],\n",
       "\n",
       "       [[ 0.87,  0.28],\n",
       "        [ 0.81,  0.56],\n",
       "        [ 0.76,  0.76]],\n",
       "\n",
       "       [[ 0.8 ,  0.26],\n",
       "        [ 0.74,  0.5 ],\n",
       "        [ 0.67,  0.68]]])"
      ]
     },
     "execution_count": 6,
     "metadata": {},
     "output_type": "execute_result"
    }
   ],
   "source": [
    "row_id = -1\n",
    "result_col = ['shared_rate']\n",
    "compare_stra = np.zeros((4,3,2))\n",
    "for supply in [0.5,1.0,1.5,2.0]:\n",
    "    row_id += 1\n",
    "    col_id = -1\n",
    "    for prate in [0.4,0.6,0.8]:\n",
    "        col_id += 1\n",
    "        temp = result.loc[(result['supply'] == supply) & (result['prate'] == prate) & \\\n",
    "                              (result['tax_cong'] == 0.0) & (result['tax_demand'] == 0.0),:]\n",
    "            \n",
    "        compare_stra[row_id,col_id,0] = np.asarray(temp.loc[(result['strategy'] == \"Full\"),result_col])\n",
    "        compare_stra[row_id,col_id,1] = np.asarray(temp.loc[(result['strategy'] == \"Pricing Opt\"),result_col])\n",
    "            \n",
    "compare_stra"
   ]
  },
  {
   "cell_type": "code",
   "execution_count": 27,
   "metadata": {},
   "outputs": [
    {
     "data": {
      "image/png": "[encoded data removed]",
      "text/plain": [
       "<matplotlib.figure.Figure at 0x1134a0410>"
      ]
     },
     "metadata": {},
     "output_type": "display_data"
    }
   ],
   "source": [
    "stra = ['S+Sh','PO']\n",
    "supp = ['50','100','150','200']\n",
    "c_str = ['r','b']\n",
    "ls_str = ['-','--','-.',':']\n",
    "for i in xrange(2):\n",
    "    for j in xrange(4):\n",
    "        plt.plot([0.4,0.6,0.8],compare_stra[j,:,i],c=c_str[i],ls = ls_str[j],label=('N='+supp[j]+','+stra[i]))\n",
    "plt.rc('text', usetex=True)\n",
    "plt.rc('font', family='serif')\n",
    "plt.legend(bbox_to_anchor=(1.0,0.0), loc=4, ncol = 2)\n",
    "plt.xlabel('$r_{sh}$',fontsize=12)\n",
    "plt.ylabel(r'$\\rho_{sh}$',fontsize=12)\n",
    "plt.savefig('shared_rate.eps')"
   ]
  },
  {
   "cell_type": "code",
   "execution_count": null,
   "metadata": {
    "collapsed": true
   },
   "outputs": [],
   "source": []
  }
 ],
 "metadata": {
  "kernelspec": {
   "display_name": "Python 2",
   "language": "python",
   "name": "python2"
  },
  "language_info": {
   "codemirror_mode": {
    "name": "ipython",
    "version": 2
   },
   "file_extension": ".py",
   "mimetype": "text/x-python",
   "name": "python",
   "nbconvert_exporter": "python",
   "pygments_lexer": "ipython2",
   "version": "2.7.12"
  }
 },
 "nbformat": 4,
 "nbformat_minor": 1
}
