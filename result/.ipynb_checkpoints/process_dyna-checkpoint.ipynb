{
 "cells": [
  {
   "cell_type": "code",
   "execution_count": 1,
   "metadata": {
    "collapsed": true
   },
   "outputs": [],
   "source": [
    "import pandas as pd\n",
    "import numpy as np\n",
    "pd.options.mode.chained_assignment = None"
   ]
  },
  {
   "cell_type": "code",
   "execution_count": 18,
   "metadata": {
    "collapsed": false
   },
   "outputs": [
    {
     "data": {
      "text/plain": [
       "array([[  0.91388395,   0.92118582,   0.80190529,   9.27402829,\n",
       "          9.24940044,   7.81426319],\n",
       "       [  1.8245229 ,   1.84679934,   1.70828684,   9.22663074,\n",
       "          9.19598496,   7.86765562],\n",
       "       [  4.80109564,   3.62675287,   7.24662242,   8.73185023,\n",
       "          8.75902947,   7.36884069],\n",
       "       [  0.91771145,   0.93751421,   0.8414708 ,   9.00714438,\n",
       "          9.05614755,   7.7976549 ],\n",
       "       [  2.03860272,   2.08744134,   2.03738271,   8.75717598,\n",
       "          8.7894579 ,   7.54594427],\n",
       "       [ 12.11219871,  10.56890901,  15.38871175,   7.9839102 ,\n",
       "          8.06393741,   6.69397006],\n",
       "       [  1.41403109,   1.45462867,   1.17104424,   8.25517759,\n",
       "          8.33587989,   7.14463374],\n",
       "       [  3.35377339,   3.41310721,   3.11221426,   7.93121249,\n",
       "          8.0044282 ,   6.68358016],\n",
       "       [ 23.47110049,  24.49017485,  18.70157909,   6.42750877,\n",
       "          6.36065313,   5.49007063]])"
      ]
     },
     "execution_count": 18,
     "metadata": {},
     "output_type": "execute_result"
    }
   ],
   "source": [
    "result = pd.read_csv(\"results_dyna_2.csv\",\n",
    "                     names = [\"strategy\",\"congestion\",\"demand\",\"supply\",\"prate\",\"tax_cong\",\"tax_demand\",\n",
    "                                            \"private\",\"revenue\",\"cost\",\"tax\",\"profit\",\"total_pax\",\n",
    "                                            \"single_pax\",\"shared_pax\",\"ave_pax\",\"ave_dist\",\"ave_time\",\n",
    "                                            \"public\",\"ave_link_time\",\"ave_density\",\"total_demand\",\n",
    "                                            \"serviced_demand\",\"stay_demand\",\"trip_rate\",\n",
    "                                            \"ave_single_dist\",\"ave_shared_dist\",\"ave_stay_dist\",\"ave_exit_dist\",\n",
    "                                            \"ave_time_offer\",\"ave_time_offer_s\",\"ave_time_pickup\"])\n",
    "\n",
    "del result['public'],result['private']\n",
    "#del result['revenue'],result['cost'],result['total_pax'],result['ave_pax'],result['ave_dist'],result['ave_time']\n",
    "del result['ave_time_offer'],result['ave_time_offer_s'],result['ave_time_pickup']\n",
    "result['shared_rate'] = result['shared_pax'] / result['serviced_demand']\n",
    "result['total_shared_rate'] = result['shared_pax'] / (result['serviced_demand'] + result['stay_demand'])\n",
    "\n",
    "result_col = [\"ave_link_time\",\"trip_rate\"]\n",
    "background = np.array([[1.66624,0.844234],\n",
    "                       [1.63102,0.844325],\n",
    "                       [1.75545,0.844088],\n",
    "                       [2.27241,0.831749],\n",
    "                       [2.18577,0.8338],\n",
    "                       [2.24245,0.833779],\n",
    "                       [3.06258,0.814826],\n",
    "                       [2.91992,0.817789],\n",
    "                       [3.03846,0.816685]\n",
    "                      ])\n",
    "compare_stra = np.zeros((9,6))\n",
    "row_id = -1\n",
    "count = 0\n",
    "for congest in [0.8,1.0,1.2]:\n",
    "    for demand in [1,2,4]:\n",
    "        row_id += 1\n",
    "        background_temp = background[row_id,:]\n",
    "        for supply in [0.5,0.75,1.0,1.25]:\n",
    "            for prate in [0.4,0.6,0.8]:\n",
    "                count += 1\n",
    "                temp = result.loc[(result['congestion'] == congest) & (result['demand'] == demand) & \\\n",
    "                                  (result['supply'] == supply) & (result['prate'] == prate) & \\\n",
    "                                  (result['tax_cong'] == 0.0) & (result['tax_demand'] == 0.0),:]\n",
    "                pricing_opt_temp = np.asarray(temp.loc[(result['strategy'] == \"Pricing Opt\"),result_col])[0,:]\n",
    "                full_temp = np.asarray(temp.loc[(result['strategy'] == \"Full\"),result_col])[0,:]\n",
    "                shared_temp = np.asarray(temp.loc[(result['strategy'] == \"Pool\"),result_col])[0,:]\n",
    "                compare_stra[row_id,[2,5]] += ((pricing_opt_temp - background_temp) / background_temp)\n",
    "                compare_stra[row_id,[0,3]] += ((full_temp - background_temp) / background_temp)\n",
    "                compare_stra[row_id,[1,4]] += ((shared_temp - background_temp) / background_temp)\n",
    "            \n",
    "compare_stra = compare_stra / count * 100 * 9\n",
    "compare_stra"
   ]
  },
  {
   "cell_type": "code",
   "execution_count": 24,
   "metadata": {
    "collapsed": false
   },
   "outputs": [
    {
     "data": {
      "text/plain": [
       "array([[  2.09633769,   2.08196731,   1.85618525,  21.47302962,\n",
       "         20.70493075,  18.24823498],\n",
       "       [  4.83373213,   4.83730144,   4.39326609,  20.88191081,\n",
       "         20.14569598,  17.72334483],\n",
       "       [ 17.73513733,  17.22086444,  19.01785468,  19.67470326,\n",
       "         19.01309944,  16.97810958],\n",
       "       [  2.32026316,   2.35070884,   2.35612466,  21.02912806,\n",
       "         20.521741  ,  18.44316547],\n",
       "       [  5.73914275,   5.81503659,   5.90357941,  20.28743558,\n",
       "         19.78000922,  17.87813143],\n",
       "       [ 35.98074467,  37.91458939,  39.23932785,  16.6379651 ,\n",
       "         15.94032341,  14.12933052],\n",
       "       [  3.20181949,   3.28077458,   2.62980896,  18.95892802,\n",
       "         18.62487689,  16.45734417],\n",
       "       [  8.84463454,   9.16140367,   6.70800158,  17.59738997,\n",
       "         17.20822782,  15.55701022],\n",
       "       [ 58.91320755,  61.51660922,  39.9168031 ,  10.03784513,\n",
       "          9.34528536,  11.2383043 ]])"
      ]
     },
     "execution_count": 24,
     "metadata": {},
     "output_type": "execute_result"
    }
   ],
   "source": [
    "result = pd.read_csv(\"results_dyna_5.csv\",\n",
    "                     names = [\"strategy\",\"congestion\",\"demand\",\"supply\",\"prate\",\"tax_cong\",\"tax_demand\",\n",
    "                                            \"private\",\"revenue\",\"cost\",\"tax\",\"profit\",\"total_pax\",\n",
    "                                            \"single_pax\",\"shared_pax\",\"ave_pax\",\"ave_dist\",\"ave_time\",\n",
    "                                            \"public\",\"ave_link_time\",\"ave_density\",\"total_demand\",\n",
    "                                            \"serviced_demand\",\"stay_demand\",\"trip_rate\",\n",
    "                                            \"ave_single_dist\",\"ave_shared_dist\",\"ave_stay_dist\",\"ave_exit_dist\",\n",
    "                                            \"ave_time_offer\",\"ave_time_offer_s\",\"ave_time_pickup\"])\n",
    "\n",
    "del result['public'],result['private']\n",
    "#del result['revenue'],result['cost'],result['total_pax'],result['ave_pax'],result['ave_dist'],result['ave_time']\n",
    "del result['ave_time_offer'],result['ave_time_offer_s'],result['ave_time_pickup']\n",
    "result['shared_rate'] = result['shared_pax'] / result['serviced_demand']\n",
    "result['total_shared_rate'] = result['shared_pax'] / (result['serviced_demand'] + result['stay_demand'])\n",
    "result['ave_pax_dist'] = result['ave_dist'] / result['total_pax']\n",
    "\n",
    "result_col = [\"ave_link_time\",\"trip_rate\"]\n",
    "background = np.array([[1.66237,0.744609],\n",
    "                       [1.61874,0.746974],\n",
    "                       [1.64893,0.745562],\n",
    "                       [2.27728,0.72454],\n",
    "                       [2.19605,0.726586],\n",
    "                       [2.25923,0.725667],\n",
    "                       [3.08755,0.698895],\n",
    "                       [2.97623,0.701193],\n",
    "                       [3.16812,0.699723]\n",
    "                      ])\n",
    "compare_stra = np.zeros((9,6))\n",
    "row_id = -1\n",
    "count = 0\n",
    "for congest in [0.8,1.0,1.2]:\n",
    "    for demand in [1,2,4]:\n",
    "        row_id += 1\n",
    "        background_temp = background[row_id,:]\n",
    "        for supply in [0.75,1.0,1.25]:\n",
    "            for prate in [0.4,0.6,0.8]:\n",
    "                count += 1\n",
    "                temp = result.loc[(result['congestion'] == congest) & (result['demand'] == demand) & \\\n",
    "                                  (result['supply'] == supply) & (result['prate'] == prate) & \\\n",
    "                                  (result['tax_cong'] == 0.0) & (result['tax_demand'] == 0.0),:]\n",
    "                pricing_opt_temp = np.asarray(temp.loc[(result['strategy'] == \"Pricing Opt\"),result_col])[0,:]\n",
    "                full_temp = np.asarray(temp.loc[(result['strategy'] == \"Full\"),result_col])[0,:]\n",
    "                shared_temp = np.asarray(temp.loc[(result['strategy'] == \"Pool\"),result_col])[0,:]\n",
    "                compare_stra[row_id,[2,5]] += ((pricing_opt_temp - background_temp) / background_temp)\n",
    "                compare_stra[row_id,[0,3]] += ((full_temp - background_temp) / background_temp)\n",
    "                compare_stra[row_id,[1,4]] += ((shared_temp - background_temp) / background_temp)\n",
    "            \n",
    "compare_stra = compare_stra / count * 100 * 9\n",
    "compare_stra"
   ]
  },
  {
   "cell_type": "code",
   "execution_count": 27,
   "metadata": {
    "collapsed": false
   },
   "outputs": [
    {
     "name": "stdout",
     "output_type": "stream",
     "text": [
      "[[ 0.2795254   0.4982608   0.45570875  0.        ]\n",
      " [ 0.26633145  0.39854867  0.62800336  0.        ]\n",
      " [ 0.26024898  0.37245433  0.43343055  0.        ]] \n",
      "\n",
      "[[ 0.32771486  0.56870952  0.89551532  0.        ]\n",
      " [ 0.32940356  0.56629799  0.9198894   0.        ]\n",
      " [ 0.34861369  0.60819666  0.97215383  0.        ]] \n",
      "\n",
      "[[ 0.26535927  0.4869481   0.79648814  0.        ]\n",
      " [ 0.3156888   0.54696476  0.90170196  0.        ]\n",
      " [ 0.37185145  0.61869184  0.99849438  0.        ]]\n"
     ]
    }
   ],
   "source": [
    "result_s = result.loc[(result['congestion'] == 1.0) & (result['demand'] == 4),:]\n",
    "background_s = background[5,:]\n",
    "result_s['ave_link_time_pc'] = result_s['ave_link_time']/background_s[0] - 1\n",
    "result_s['trip_rate_pc'] = result_s['trip_rate']/background_s[1] - 1\n",
    "\n",
    "def get_re_table(re,name,stra):\n",
    "    re_out = np.zeros((3,4))\n",
    "    col_id = -1\n",
    "    for supply in [0.5,0.75,1.0,1.25]:\n",
    "        col_id += 1\n",
    "        row_id = -1\n",
    "        for prate in [0.4,0.6,0.8]:\n",
    "            row_id += 1\n",
    "            temp = re.loc[(re['supply'] == supply) & (re['prate'] == prate) & \\\n",
    "                          (re['tax_cong'] == 0.0) & (re['tax_demand'] == 0.0) & \\\n",
    "                          (re['strategy'] == stra),name]\n",
    "            re_out[row_id,col_id] += np.asarray(temp)[0]\n",
    "    return re_out\n",
    "\n",
    "def get_tax_c_eff(re,name):\n",
    "    re_out = np.zeros((3,4))\n",
    "    col_id = -1\n",
    "    for supply in [0.5,0.75,1.0,1.25]:\n",
    "        col_id += 1\n",
    "        row_id = -1\n",
    "        for prate in [0.4,0.6,0.8]:\n",
    "            row_id += 1\n",
    "            for tax_d in [0.0,-0.25]:\n",
    "                temp = re.loc[(re['supply'] == supply) & (re['prate'] == prate) & \\\n",
    "                              (re['tax_demand'] == tax_d) & \\\n",
    "                              (re['strategy'] == \"Pricing Opt\"),['tax_cong',name]]\n",
    "                temp1 = np.asarray(temp.loc[(temp['tax_cong'] == -0.025),name])[0]\n",
    "                temp2 = np.asarray(temp.loc[(temp['tax_cong'] == 0.0),name])[0]\n",
    "                re_out[row_id,col_id] += (float(temp1)/float(temp2) - 1)\n",
    "    re_out = re_out / 2 * 100\n",
    "    return re_out\n",
    "\n",
    "def get_tax_d_eff(re,name):\n",
    "    re_out = np.zeros((3,4))\n",
    "    col_id = -1\n",
    "    for supply in [0.5,0.75,1.0,1.25]:\n",
    "        col_id += 1\n",
    "        row_id = -1\n",
    "        for prate in [0.4,0.6,0.8]:\n",
    "            row_id += 1\n",
    "            for tax_c in [0.0,-0.025]:\n",
    "                temp = re.loc[(re['supply'] == supply) & (re['prate'] == prate) & \\\n",
    "                              (re['tax_cong'] == tax_c) & \\\n",
    "                              (re['strategy'] == \"Pricing Opt\"),['tax_demand',name]]\n",
    "                temp1 = np.asarray(temp.loc[(temp['tax_demand'] == -0.25),name])[0]\n",
    "                temp2 = np.asarray(temp.loc[(temp['tax_demand'] == 0.0),name])[0]\n",
    "                re_out[row_id,col_id] += (float(temp1)/float(temp2) - 1)\n",
    "    re_out = re_out / 2 * 100\n",
    "    return re_out\n",
    "\n",
    "result_col = [\"ave_link_time_pc\",\"trip_rate_pc\",\"total_shared_rate\",\n",
    "              \"ave_link_time\",\"trip_rate\",\"ave_pax_dist\",\"ave_time\",\n",
    "              \"ave_single_dist\",\"ave_shared_dist\",\"ave_stay_dist\",\"ave_exit_dist\"]\n",
    "\n",
    "result_name = result_col[0]\n",
    "print get_re_table(result_s,result_name,\"Pricing Opt\"),'\\n\\n',\\\n",
    "    get_re_table(result_s,result_name,\"Pool\"),'\\n\\n',\\\n",
    "    get_re_table(result_s,result_name,\"Full\")\n",
    "\n",
    "#result_name = result_col[4]\n",
    "#print get_tax_c_eff(result_s,result_name),'\\n\\n',get_tax_d_eff(result_s,result_name)"
   ]
  },
  {
   "cell_type": "code",
   "execution_count": null,
   "metadata": {
    "collapsed": true
   },
   "outputs": [],
   "source": []
  }
 ],
 "metadata": {
  "kernelspec": {
   "display_name": "Python 2",
   "language": "python",
   "name": "python2"
  },
  "language_info": {
   "codemirror_mode": {
    "name": "ipython",
    "version": 2
   },
   "file_extension": ".py",
   "mimetype": "text/x-python",
   "name": "python",
   "nbconvert_exporter": "python",
   "pygments_lexer": "ipython2",
   "version": "2.7.12"
  }
 },
 "nbformat": 4,
 "nbformat_minor": 0
}
